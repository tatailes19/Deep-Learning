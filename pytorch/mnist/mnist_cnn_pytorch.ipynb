{
 "cells": [
  {
   "cell_type": "code",
   "execution_count": 1,
   "metadata": {},
   "outputs": [],
   "source": [
    "from torch.utils.data import DataLoader\n",
    "from torchvision import datasets\n",
    "from torchvision import transforms\n",
    "import torch.nn as nn"
   ]
  },
  {
   "cell_type": "code",
   "execution_count": 2,
   "metadata": {},
   "outputs": [],
   "source": [
    "transform = transforms.Compose([transforms.ToTensor(), transforms.Normalize((0.1307,), (0.3081,))])\n",
    "train_dataset = datasets.MNIST(root='./data', train=True, transform=transform, download=True)\n",
    "test_dataset = datasets.MNIST(root='./data', train=False, transform=transform, download=True)"
   ]
  },
  {
   "cell_type": "code",
   "execution_count": 3,
   "metadata": {},
   "outputs": [],
   "source": [
    "train_loader = DataLoader(train_dataset, batch_size=64, shuffle=True)\n",
    "test_loader = DataLoader(test_dataset)"
   ]
  },
  {
   "cell_type": "code",
   "execution_count": 4,
   "metadata": {},
   "outputs": [],
   "source": [
    "from CNN_torch import CNN_classifier"
   ]
  },
  {
   "cell_type": "code",
   "execution_count": 5,
   "metadata": {},
   "outputs": [],
   "source": [
    "model = CNN_classifier()\n",
    "model.compile(lr=0.001)"
   ]
  },
  {
   "cell_type": "code",
   "execution_count": 6,
   "metadata": {},
   "outputs": [
    {
     "name": "stdout",
     "output_type": "stream",
     "text": [
      "Epoch:0 loss is 0.22090840339660645 train_accuracy is 0.9199833333333334\n",
      "Epoch:1 loss is 0.09359048306941986 train_accuracy is 0.9660833333333333\n",
      "Epoch:2 loss is 0.00633528595790267 train_accuracy is 0.9721\n",
      "Epoch:3 loss is 0.12656855583190918 train_accuracy is 0.97535\n",
      "Epoch:4 loss is 0.09560735523700714 train_accuracy is 0.9772333333333333\n"
     ]
    }
   ],
   "source": [
    "import os\n",
    "os.environ[\"OMP_NUM_THREADS\"] = \"8\"\n",
    "model.train(train_loader, epochs=5)"
   ]
  },
  {
   "cell_type": "code",
   "execution_count": 7,
   "metadata": {},
   "outputs": [],
   "source": [
    "y_pred, y_true = model.predict(test_loader)"
   ]
  },
  {
   "cell_type": "code",
   "execution_count": 11,
   "metadata": {},
   "outputs": [
    {
     "name": "stdout",
     "output_type": "stream",
     "text": [
      "predicted value : 7 & real value : 7\n",
      "predicted value : 2 & real value : 2\n",
      "predicted value : 1 & real value : 1\n",
      "predicted value : 0 & real value : 0\n",
      "predicted value : 4 & real value : 4\n",
      "predicted value : 1 & real value : 1\n",
      "predicted value : 4 & real value : 4\n",
      "predicted value : 9 & real value : 9\n",
      "predicted value : 5 & real value : 5\n",
      "predicted value : 9 & real value : 9\n",
      "predicted value : 0 & real value : 0\n",
      "predicted value : 6 & real value : 6\n",
      "predicted value : 9 & real value : 9\n",
      "predicted value : 0 & real value : 0\n"
     ]
    }
   ],
   "source": [
    "for i in range(14):\n",
    "    print(f\"predicted value : {y_pred[i]} & real value : {y_true[i]}\")"
   ]
  }
 ],
 "metadata": {
  "kernelspec": {
   "display_name": "Python 3",
   "language": "python",
   "name": "python3"
  },
  "language_info": {
   "codemirror_mode": {
    "name": "ipython",
    "version": 3
   },
   "file_extension": ".py",
   "mimetype": "text/x-python",
   "name": "python",
   "nbconvert_exporter": "python",
   "pygments_lexer": "ipython3",
   "version": "3.11.5"
  }
 },
 "nbformat": 4,
 "nbformat_minor": 2
}
